{
 "cells": [
  {
   "cell_type": "code",
   "execution_count": 1,
   "metadata": {},
   "outputs": [],
   "source": [
    "%run \"model_random.ipynb\""
   ]
  },
  {
   "cell_type": "code",
   "execution_count": 2,
   "metadata": {},
   "outputs": [],
   "source": [
    "# 读取生成的数据\n",
    "ds_block = xr.open_dataset(\n",
    "   \"Data/block.nc\")\n",
    "ds_full = xr.open_dataset(\n",
    "   \"Data/full.nc\")\n",
    "# 将生成的数据转化为用于神经网络训练的数据集格式\n",
    "BLOCK_SIZE, BATCH_SIZE = 2, 4\n",
    "dens_full, disp_slice, outputs = extract_data(ds_full, ds_block)\n",
    "dataset = tf.data.Dataset.from_tensor_slices(({\"dens_input\": dens_full, \"disp_input\": disp_slice}, outputs))\n",
    "train_dataset, _, test_dataset = get_dataset(dataset, dens_full.shape[0], batch_size=BATCH_SIZE)\n",
    "\n",
    "# 初始化神经网络模型\n",
    "num_of_layers_cnn, num_of_layers_fnn =10, 10\n",
    "cnn = cnn_model(num_of_layers=num_of_layers_cnn)\n",
    "fnn = fnn_model(block_size=BLOCK_SIZE, num_of_layers=num_of_layers_fnn)"
   ]
  },
  {
   "cell_type": "code",
   "execution_count": 3,
   "metadata": {},
   "outputs": [],
   "source": [
    "# 训练神经网络\n",
    "test_losses, val_losses = custom_train(block_size=BLOCK_SIZE,cnn_model=cnn,fnn_model=fnn,\\\n",
    "                        loss_function=tf.keras.losses.MeanAbsoluteError(),\\\n",
    "                        num_epoch=20,optimizer=tf.keras.optimizers.Adam(learning_rate=0.001),\\\n",
    "                        batched_train=train_dataset, batched_test=test_dataset, num_of_layers_1=num_of_layers_cnn, num_of_layers_2=num_of_layers_fnn,save_model=False, \n",
    "                        casename='test')"
   ]
  },
  {
   "cell_type": "code",
   "execution_count": null,
   "metadata": {},
   "outputs": [],
   "source": []
  }
 ],
 "metadata": {
  "kernelspec": {
   "display_name": "tensorflow",
   "language": "python",
   "name": "python3"
  },
  "language_info": {
   "codemirror_mode": {
    "name": "ipython",
    "version": 3
   },
   "file_extension": ".py",
   "mimetype": "text/x-python",
   "name": "python",
   "nbconvert_exporter": "python",
   "pygments_lexer": "ipython3",
   "version": "3.9.15"
  },
  "orig_nbformat": 4
 },
 "nbformat": 4,
 "nbformat_minor": 2
}
