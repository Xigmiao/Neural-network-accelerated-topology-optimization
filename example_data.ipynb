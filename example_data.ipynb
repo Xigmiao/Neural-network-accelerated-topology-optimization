{
 "cells": [
  {
   "cell_type": "code",
   "execution_count": 1,
   "metadata": {},
   "outputs": [],
   "source": [
    "%run \"data_generation.ipynb\""
   ]
  },
  {
   "attachments": {},
   "cell_type": "markdown",
   "metadata": {},
   "source": [
    "生成全尺度数据："
   ]
  },
  {
   "cell_type": "code",
   "execution_count": 3,
   "metadata": {},
   "outputs": [
    {
     "name": "stdout",
     "output_type": "stream",
     "text": [
      "1 structure generated\n",
      "2 structure generated\n",
      "3 structure generated\n",
      "4 structure generated\n",
      "5 structure generated\n",
      "6 structure generated\n",
      "7 structure generated\n",
      "8 structure generated\n",
      "9 structure generated\n",
      "10 structure generated\n",
      "11 structure generated\n",
      "12 structure generated\n",
      "13 structure generated\n",
      "14 structure generated\n",
      "15 structure generated\n",
      "16 structure generated\n",
      "17 structure generated\n",
      "18 structure generated\n",
      "19 structure generated\n",
      "20 structure generated\n",
      "21 structure generated\n",
      "22 structure generated\n",
      "23 structure generated\n",
      "24 structure generated\n",
      "25 structure generated\n",
      "26 structure generated\n",
      "27 structure generated\n",
      "28 structure generated\n",
      "29 structure generated\n",
      "30 structure generated\n",
      "31 structure generated\n",
      "32 structure generated\n",
      "33 structure generated\n",
      "34 structure generated\n",
      "35 structure generated\n",
      "36 structure generated\n",
      "37 structure generated\n",
      "38 structure generated\n",
      "39 structure generated\n",
      "40 structure generated\n",
      "41 structure generated\n",
      "42 structure generated\n",
      "43 structure generated\n",
      "44 structure generated\n",
      "45 structure generated\n",
      "46 structure generated\n",
      "47 structure generated\n",
      "48 structure generated\n",
      "49 structure generated\n",
      "50 structure generated\n",
      "51 structure generated\n",
      "52 structure generated\n",
      "53 structure generated\n",
      "54 structure generated\n",
      "55 structure generated\n",
      "56 structure generated\n",
      "57 structure generated\n",
      "58 structure generated\n",
      "59 structure generated\n",
      "60 structure generated\n",
      "61 structure generated\n",
      "62 structure generated\n",
      "63 structure generated\n",
      "64 structure generated\n",
      "65 structure generated\n",
      "66 structure generated\n",
      "67 structure generated\n",
      "68 structure generated\n",
      "69 structure generated\n",
      "70 structure generated\n",
      "71 structure generated\n",
      "72 structure generated\n",
      "73 structure generated\n",
      "74 structure generated\n",
      "75 structure generated\n",
      "76 structure generated\n",
      "77 structure generated\n",
      "78 structure generated\n",
      "79 structure generated\n",
      "80 structure generated\n",
      "81 structure generated\n",
      "82 structure generated\n",
      "83 structure generated\n",
      "84 structure generated\n",
      "85 structure generated\n",
      "86 structure generated\n",
      "87 structure generated\n",
      "88 structure generated\n",
      "89 structure generated\n",
      "90 structure generated\n",
      "91 structure generated\n",
      "92 structure generated\n",
      "93 structure generated\n",
      "94 structure generated\n",
      "95 structure generated\n",
      "96 structure generated\n",
      "97 structure generated\n",
      "98 structure generated\n",
      "99 structure generated\n",
      "100 structure generated\n"
     ]
    }
   ],
   "source": [
    "# 生成 60 x 60 的方形结构，力和位移边界条件随机，共100个\n",
    "ds_full = generate_dataset(60,100)"
   ]
  },
  {
   "attachments": {},
   "cell_type": "markdown",
   "metadata": {},
   "source": [
    "生成缩尺数据并将其分块："
   ]
  },
  {
   "cell_type": "code",
   "execution_count": 3,
   "metadata": {},
   "outputs": [],
   "source": [
    "BLOCK_SIZE = 2 # 分块大小（n x n）\n",
    "ds_red = generate_reduced_dataset(ds_full.dens_full.values, ds_full.bc_cond.values, ds_full.f_cond.values, factor=BLOCK_SIZE)\n",
    "ds_block = generate_block_dataset(ds_full, ds_red, block_size=BLOCK_SIZE)"
   ]
  },
  {
   "attachments": {},
   "cell_type": "markdown",
   "metadata": {},
   "source": [
    "保存至Data文件夹下："
   ]
  },
  {
   "cell_type": "code",
   "execution_count": null,
   "metadata": {},
   "outputs": [],
   "source": [
    "dir = \"Data\"\n",
    "ds_full.to_netcdf(dir+\"/full.nc\")\n",
    "ds_block.to_netcdf(dir+\"/block.nc\")"
   ]
  }
 ],
 "metadata": {
  "kernelspec": {
   "display_name": "tensorflow",
   "language": "python",
   "name": "python3"
  },
  "language_info": {
   "codemirror_mode": {
    "name": "ipython",
    "version": 3
   },
   "file_extension": ".py",
   "mimetype": "text/x-python",
   "name": "python",
   "nbconvert_exporter": "python",
   "pygments_lexer": "ipython3",
   "version": "3.9.15"
  },
  "orig_nbformat": 4
 },
 "nbformat": 4,
 "nbformat_minor": 2
}
