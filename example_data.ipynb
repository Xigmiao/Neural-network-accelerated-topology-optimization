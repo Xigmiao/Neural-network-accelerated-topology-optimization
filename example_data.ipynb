{
 "cells": [
  {
   "cell_type": "code",
   "execution_count": 1,
   "metadata": {},
   "outputs": [],
   "source": [
    "%run \"data_random.ipynb\""
   ]
  },
  {
   "cell_type": "code",
   "execution_count": 2,
   "metadata": {},
   "outputs": [
    {
     "name": "stdout",
     "output_type": "stream",
     "text": [
      "1 structure generated\n",
      "2 structure generated\n",
      "3 structure generated\n",
      "4 structure generated\n",
      "5 structure generated\n",
      "6 structure generated\n",
      "7 structure generated\n",
      "8 structure generated\n",
      "9 structure generated\n",
      "10 structure generated\n"
     ]
    }
   ],
   "source": [
    "ds_full = generate_dataset(60,10)"
   ]
  },
  {
   "cell_type": "code",
   "execution_count": 3,
   "metadata": {},
   "outputs": [],
   "source": [
    "BLOCK_SIZE = 2\n",
    "ds_red = generate_reduced_dataset(ds_full.dens_full.values, ds_full.bc_cond.values, ds_full.f_cond.values, factor=BLOCK_SIZE)\n",
    "ds_block = generate_block_dataset(ds_full, ds_red, block_size=BLOCK_SIZE)"
   ]
  },
  {
   "cell_type": "code",
   "execution_count": null,
   "metadata": {},
   "outputs": [],
   "source": [
    "dir = \"Data\"\n",
    "ds_full.to_netcdf(dir+\"/full.nc\")\n",
    "ds_block.to_netcdf(dir+\"/block.nc\")"
   ]
  },
  {
   "cell_type": "code",
   "execution_count": 4,
   "metadata": {},
   "outputs": [],
   "source": [
    "BATCH_SIZE = 4\n",
    "dens_full, disp_slice, outputs = extract_data(ds_full, ds_block)\n",
    "dataset = tf.data.Dataset.from_tensor_slices(({\"dens_input\": dens_full, \"disp_input\": disp_slice}, outputs))\n",
    "train_dataset, _, test_dataset = get_dataset(dataset, dens_full.shape[0], batch_size=BATCH_SIZE)\n",
    "\n",
    "num_of_layers_cnn, num_of_layers_fnn =10, 10\n",
    "cnn = cnn_model(num_of_layers=num_of_layers_cnn)\n",
    "fnn = fnn_model(block_size=BLOCK_SIZE, num_of_layers=num_of_layers_fnn)"
   ]
  },
  {
   "cell_type": "code",
   "execution_count": 5,
   "metadata": {},
   "outputs": [
    {
     "ename": "",
     "evalue": "",
     "output_type": "error",
     "traceback": [
      "\u001b[1;31mCanceled future for execute_request message before replies were done"
     ]
    },
    {
     "ename": "",
     "evalue": "",
     "output_type": "error",
     "traceback": [
      "\u001b[1;31mThe Kernel crashed while executing code in the the current cell or a previous cell. Please review the code in the cell(s) to identify a possible cause of the failure. Click <a href='https://aka.ms/vscodeJupyterKernelCrash'>here</a> for more info. View Jupyter <a href='command:jupyter.viewOutput'>log</a> for further details."
     ]
    }
   ],
   "source": [
    "test_losses, val_losses = custom_train(block_size=BLOCK_SIZE,cnn_model=cnn,fnn_model=fnn,\\\n",
    "                        loss_function=tf.keras.losses.MeanAbsoluteError(),\\\n",
    "                        num_epoch=200,optimizer=tf.keras.optimizers.Adam(learning_rate=0.001),\\\n",
    "                        batched_train=train_dataset, batched_test=test_dataset, num_of_layers_1=num_of_layers_cnn, num_of_layers_2=num_of_layers_fnn,save_model=False, \n",
    "                        casename='test')"
   ]
  }
 ],
 "metadata": {
  "kernelspec": {
   "display_name": "tensorflow",
   "language": "python",
   "name": "python3"
  },
  "language_info": {
   "codemirror_mode": {
    "name": "ipython",
    "version": 3
   },
   "file_extension": ".py",
   "mimetype": "text/x-python",
   "name": "python",
   "nbconvert_exporter": "python",
   "pygments_lexer": "ipython3",
   "version": "3.9.15"
  },
  "orig_nbformat": 4
 },
 "nbformat": 4,
 "nbformat_minor": 2
}
