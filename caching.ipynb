{
 "cells": [
  {
   "cell_type": "code",
   "execution_count": 1,
   "metadata": {
    "id": "kWsctRlZNiYJ"
   },
   "outputs": [],
   "source": [
    "# lint as python3\n",
    "# Copyright 2019 Google LLC.\n",
    "#\n",
    "# Licensed under the Apache License, Version 2.0 (the \"License\");\n",
    "# you may not use this file except in compliance with the License.\n",
    "# You may obtain a copy of the License at\n",
    "#\n",
    "#     https://www.apache.org/licenses/LICENSE-2.0\n",
    "#\n",
    "# Unless required by applicable law or agreed to in writing, software\n",
    "# distributed under the License is distributed on an \"AS IS\" BASIS,\n",
    "# WITHOUT WARRANTIES OR CONDITIONS OF ANY KIND, either express or implied.\n",
    "# See the License for the specific language governing permissions and\n",
    "# limitations under the License.\n",
    "\"\"\"NumPy friendly caching utilities.\"\"\"\n",
    "\n",
    "import functools\n",
    "\n",
    "import numpy as np\n",
    "\n",
    "\n",
    "class _WrappedArray:\n",
    "  \"\"\"Hashable wrapper for NumPy arrays.\"\"\"\n",
    "\n",
    "  def __init__(self, value):\n",
    "    self.value = value\n",
    "\n",
    "  def __eq__(self, other):\n",
    "    return np.array_equal(self.value, other.value)\n",
    "\n",
    "  def __hash__(self):\n",
    "    # Something that can be calculated quickly -- we won't have many collisions.\n",
    "    # Hash collisions just mean that that __eq__ needs to be checked.\n",
    "    # https://stackoverflow.com/questions/16589791/most-efficient-property-to-hash-for-numpy-array\n",
    "    return hash(repr(self.value.ravel()))\n",
    "\n",
    "\n",
    "def ndarray_safe_lru_cache(maxsize=128):\n",
    "  \"\"\"An ndarray compatible version of functools.lru_cache.\"\"\"\n",
    "  def decorator(func):  # pylint: disable=missing-docstring\n",
    "    @functools.lru_cache(maxsize)\n",
    "    def cached_func(*args, **kwargs):\n",
    "      args = tuple(a.value if isinstance(a, _WrappedArray) else a for a in args)\n",
    "      kwargs = {k: v.value if isinstance(v, _WrappedArray) else v\n",
    "                for k, v in kwargs.items()}\n",
    "      return func(*args, **kwargs)\n",
    "\n",
    "    @functools.wraps(func)\n",
    "    def wrapper(*args, **kwargs):  # pylint: disable=missing-docstring\n",
    "      args = tuple(_WrappedArray(a) if isinstance(a, np.ndarray) else a\n",
    "                   for a in args)\n",
    "      kwargs = {k: _WrappedArray(v) if isinstance(v, np.ndarray) else v\n",
    "                for k, v in kwargs.items()}\n",
    "      return cached_func(*args, **kwargs)\n",
    "\n",
    "    return wrapper\n",
    "  return decorator"
   ]
  }
 ],
 "metadata": {
  "colab": {
   "collapsed_sections": [],
   "provenance": []
  },
  "kernelspec": {
   "display_name": "Python 3.9.15 ('tensorflow')",
   "language": "python",
   "name": "python3"
  },
  "language_info": {
   "codemirror_mode": {
    "name": "ipython",
    "version": 3
   },
   "file_extension": ".py",
   "mimetype": "text/x-python",
   "name": "python",
   "nbconvert_exporter": "python",
   "pygments_lexer": "ipython3",
   "version": "3.9.15"
  },
  "vscode": {
   "interpreter": {
    "hash": "3cd6af004486e18d8cd1b1dc71eb6e14b35da0a003c4531af785de1b844902cc"
   }
  }
 },
 "nbformat": 4,
 "nbformat_minor": 4
}
