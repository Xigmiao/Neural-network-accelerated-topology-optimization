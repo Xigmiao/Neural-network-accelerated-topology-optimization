{
 "cells": [
  {
   "cell_type": "code",
   "execution_count": 1,
   "metadata": {
    "id": "6-FFiLGWTjav"
   },
   "outputs": [],
   "source": [
    "%run \"./problems.ipynb\"\n",
    "%run \"./topo_physics.ipynb\"\n",
    "%run \"./utils.ipynb\"\n",
    "import scipy.sparse\n",
    "import scipy.sparse.linalg\n",
    "from matplotlib import pyplot as plt\n",
    "import xarray as xr\n",
    "from skimage.util import view_as_windows"
   ]
  },
  {
   "cell_type": "code",
   "execution_count": 2,
   "metadata": {
    "id": "Ds8AeXekq4vM"
   },
   "outputs": [],
   "source": [
    "def generate_square_problem(dim, factor):\n",
    "  '''\n",
    "  在一个正方形设计域中，在外周的节点上生成随机的固定支座和力。(借鉴https://arxiv.org/abs/2106.13652 ，P10-11)\n",
    "  为了保证维度缩减factor后这些边界条件节点仍能精确地对应，在随机选择节点时，候选节点只包含缩减后仍存在的节点。\n",
    "  例如，如果要使结构可以缩减2、3、4倍，则factor应设置为最小公倍数12。\n",
    "  '''\n",
    "  num_candidate_points = dim//factor * 4\n",
    "  ppl = dim//factor # points per length，即在每条边上有多少可供选择的点\n",
    "  X, Y = 0, 1\n",
    " \n",
    "  normals = np.zeros((dim + 1, dim + 1, 2))\n",
    "  forces = np.zeros((dim + 1, dim + 1, 2))\n",
    "  # 2-3 fixed boundaries, 2-3 unit forces in Y and X direction\n",
    "  bc_points = np.random.choice(num_candidate_points, np.random.randint(2,4), replace=False) # 随机选择固支节点\n",
    "  for point in bc_points:\n",
    "    if point < ppl:\n",
    "      normals[dim*point//ppl, 0, X] = 1\n",
    "      normals[dim*point//ppl, 0, Y] = 1\n",
    "    elif point < ppl*2:\n",
    "      normals[dim, dim*(point%ppl)//ppl, X] = 1\n",
    "      normals[dim, dim*(point%ppl)//ppl, Y] = 1\n",
    "    elif point < ppl*3:\n",
    "      normals[dim*(point%ppl)//ppl, dim, X] = 1\n",
    "      normals[dim*(point%ppl)//ppl, dim, Y] = 1\n",
    "    else:\n",
    "      normals[0, dim*(point%ppl)//ppl, X] = 1\n",
    "      normals[0, dim*(point%ppl)//ppl, Y] = 1\n",
    "  \n",
    "  f_candidates = np.asarray(list(set(np.arange(num_candidate_points)) - set(bc_points))) # 确保力的节点和固支节点不同\n",
    "  f_points = np.random.choice(f_candidates, np.random.randint(2,4), replace=False) # 随机选择力的节点\n",
    "  \n",
    "  for point in f_points:\n",
    "    if point < ppl:\n",
    "      forces[dim*point//ppl, 0, np.random.randint(0,2)] = 1\n",
    "    elif point < ppl*2:\n",
    "      forces[dim, dim*(point%ppl)//ppl, np.random.randint(0,2)] = 1\n",
    "    elif point < ppl*3:\n",
    "      forces[dim*(point%ppl)//ppl, dim, np.random.randint(0,2)] = 1\n",
    "    else:\n",
    "      forces[0, dim*(point%ppl)//ppl, np.random.randint(0,2)] = 1\n",
    "  bc_cond, force_cond = np.moveaxis(np.moveaxis(normals, -1, 0), 1, 2), \\\n",
    "              np.moveaxis(np.moveaxis(forces, -1, 0), 1, 2)\n",
    "  density = np.random.choice(np.arange(0.3,0.7,0.1))\n",
    "  return Problem(normals, forces, density), bc_cond, force_cond\n",
    "\n",
    "def generate_dataset(dim, numbers, factor=12, opt_steps=20):\n",
    "  '''生成数据集'''\n",
    "  dens_full, disp_full, sens_full, bc_conds, f_conds= [], [], [], [], []\n",
    "  i = 0\n",
    "  while i < numbers:\n",
    "    problem, bc_cond, f_cond = generate_square_problem(dim, factor)\n",
    "    frames, sens, u = run_topo_simp_decompose(args=specified_task(problem, opt_steps=opt_steps))\n",
    "    if np.any(np.array(sens)>0): # 如果灵敏度大于0，说明生成的结构异常，重新生成\n",
    "      continue\n",
    "    bc_conds.extend(\n",
    "        np.broadcast_to(bc_cond, (len(frames), 2, dim+1, dim+1)))\n",
    "    f_conds.extend(\n",
    "        np.broadcast_to(f_cond, (len(frames), 2, dim+1, dim+1)))\n",
    "    disp_full.extend(u)\n",
    "    sens_full.extend(sens)\n",
    "    dens_full.extend(frames)\n",
    "    i += 1\n",
    "    print(i,'structure generated')\n",
    "  # 使用xarray库来打包数据 https://docs.xarray.dev/en/stable/index.html\n",
    "  ds = xr.Dataset({\n",
    "        'dens_full': (('number', 'nely', 'nelx'), dens_full),\n",
    "        'disp_full': (('number', '2*nnpy*nnpx'), disp_full),\n",
    "        'sens_full': (('number', 'nely', 'nelx'), sens_full),\n",
    "        'bc_cond': (('number', 'channel', 'nnpy', 'nnpx'), bc_conds),\n",
    "        'f_cond': (('number', 'channel', 'nnpy', 'nnpx'), f_conds),\n",
    "    }, coords={'number': np.arange(len(dens_full))})\n",
    "  return ds"
   ]
  },
  {
   "cell_type": "code",
   "execution_count": 7,
   "metadata": {
    "id": "dCpD5P7NxNBJ"
   },
   "outputs": [],
   "source": [
    "def generate_reduced_dataset(densities, bc_conds, f_conds, factor):\n",
    "  '''生成维度缩减后的结构及相应单元密度'''\n",
    "  dens_red, disp_red, sens_red = [], [], []\n",
    "  bc_conds, f_conds = np.array(bc_conds), np.array(f_conds)\n",
    "  normals = np.moveaxis(np.moveaxis(bc_conds, 1, 3), 1, 2)\n",
    "  forces = np.moveaxis(np.moveaxis(f_conds, 1, 3), 1, 2)\n",
    "  for density, normal, force in zip(densities, normals, forces):\n",
    "    problem = Problem(normal, force, 0.5)\n",
    "    dens = average_downsample(density, factor=factor)\n",
    "    reduced_problem = scale_reduction_square(problem, factor=factor)\n",
    "    u, sens = fem_solver(dens, specified_task(reduced_problem))\n",
    "    u = standardize(u)\n",
    "    dens_red.append(dens)\n",
    "    disp_red.append(u)\n",
    "    sens_red.append(sens)\n",
    "  ds = xr.Dataset({\n",
    "        'dens_red': (('number', 'y_red', 'x_red'), dens_red),\n",
    "        'disp_red': (('number', 'u_red'), disp_red),\n",
    "        'sens_red': (('number', 'y_red', 'x_red'), sens_red),\n",
    "    }, coords={'number': np.arange(len(dens_red))})\n",
    "  \n",
    "  return ds"
   ]
  },
  {
   "attachments": {},
   "cell_type": "markdown",
   "metadata": {},
   "source": [
    "由维度缩减后的数据集生成切块后的数据集："
   ]
  },
  {
   "cell_type": "code",
   "execution_count": 9,
   "metadata": {
    "id": "Tl_hh2vU1BIx"
   },
   "outputs": [],
   "source": [
    "def elements_to_block(images, block_size=2):\n",
    "  ''' cut (n, nely, nelx) images  into \n",
    "  (n*(nely//block_size)*(nelx//blocksize), block_size, block_size)) blocks'''\n",
    "  if len(images.shape) == 2:\n",
    "    nely, nelx = images.shape[0], images.shape[1]\n",
    "  else:\n",
    "    nely, nelx = images.shape[1], images.shape[2]\n",
    "  if nely % block_size != 0 or nelx % block_size != 0:\n",
    "    raise ValueError(\n",
    "    f'shape ({nely},{nelx}) cannot be reduced accurately by {factor}x')\n",
    "  \n",
    "  num_of_slice = nelx//block_size\n",
    "  return np.moveaxis(images.reshape(-1,block_size,num_of_slice,block_size),1,2).reshape(-1,block_size,block_size)\n",
    "\n",
    "def plot_blocks(columns, blocks, cmap='Greys'):    \n",
    "    rows = blocks.shape[1]//columns + 1\n",
    "    fig = plt.figure(figsize=(10, 10))\n",
    "    for i in range(blocks.shape[0]):\n",
    "      fig.add_subplot(rows, columns, i+1, frame_on=True)\n",
    "      plt.imshow(blocks[i], cmap=cmap)\n",
    "      plt.axis('on')\n",
    "\n",
    "def plot_blocks(nelx, blocks, cmap='Greys'):    \n",
    "    columns = nelx//blocks.shape[-1]\n",
    "    rows = blocks.shape[0]//columns\n",
    "    fig, axes = plt.subplots(rows, columns, figsize=(10,10))\n",
    "    i = 0\n",
    "    for ax in axes.flat:\n",
    "      im = ax.imshow(blocks[i], vmin=0, vmax=15, cmap=cmap)\n",
    "      i += 1\n",
    "    fig.colorbar(im, ax=axes.ravel().tolist())\n",
    "    plt.show()\n",
    "\n",
    "\n",
    "def full_disp_to_block(image, block_size=2):\n",
    "  '''rolling window with shape (block_size+1,block_size+1) and stride (block_size,block_size)'''\n",
    "  return np.array(view_as_windows(image, window_shape=(block_size+1,block_size+1), step=(block_size,block_size))).reshape(-1,block_size+1,block_size+1)\n",
    "def coarse_disp_to_block(image):\n",
    "  '''rolling window with shape (2,2) and stride (1,1)'''\n",
    "  return np.array(view_as_windows(image, window_shape=(2,2), step=(1,1))).reshape(-1,2,2)\n",
    "\n",
    "def generate_block_dataset(ds_full, ds_red, block_size):\n",
    "  dens_full = ds_full.dens_full.values # shape (number, nely, nelx)\n",
    "  sens_full = ds_full.sens_full.values\n",
    "  disp_full = ds_full.disp_full.values # shape (number, nnpy*nnpx*2)\n",
    "  dens_red = ds_red.dens_red.values # shape (number, nely//block_size, nelx//block_size)\n",
    "  sens_red = ds_red.sens_red.values\n",
    "  disp_red = ds_red.disp_red.values\n",
    "\n",
    "  dens_block = elements_to_block(dens_full, block_size=block_size)\n",
    "  sens_block = elements_to_block(sens_full, block_size=block_size)\n",
    "  dens_red_block = dens_red.ravel()\n",
    "  sens_red_block = sens_red.ravel()\n",
    "\n",
    "  ux_full_block, uy_full_block, ux_red_block, uy_red_block = [], [], [], []\n",
    "  nely, nelx = dens_full.shape[1], dens_full.shape[2]\n",
    "  for u in disp_full:\n",
    "    ux, uy = separate_u(u, nelx, nely)\n",
    "    ux_block = full_disp_to_block(ux, block_size=block_size)\n",
    "    uy_block = full_disp_to_block(uy, block_size=block_size)\n",
    "    ux_full_block.append(ux_block)\n",
    "    uy_full_block.append(uy_block)\n",
    "\n",
    "  for u in disp_red:\n",
    "    ux, uy = separate_u(u, nelx//block_size, nely//block_size)\n",
    "    ux_block = coarse_disp_to_block(ux)\n",
    "    uy_block = coarse_disp_to_block(uy)\n",
    "    ux_red_block.append(ux_block)\n",
    "    uy_red_block.append(uy_block)\n",
    "  \n",
    "  ux_full_block = np.array(ux_full_block).reshape(-1,block_size+1, block_size+1)\n",
    "  uy_full_block = np.array(uy_full_block).reshape(-1,block_size+1, block_size+1)\n",
    "  ux_red_block = np.array(ux_red_block).reshape(-1,2,2)\n",
    "  uy_red_block = np.array(uy_red_block).reshape(-1,2,2)\n",
    "\n",
    "  ds = xr.Dataset({\n",
    "        'dens_block': (('number', 'yblock', 'xblock'), dens_block),\n",
    "        'sens_block': (('number', 'yblock', 'xblock'), sens_block),\n",
    "        'dens_red_block': (('number',), dens_red_block),\n",
    "        'sens_red_block': (('number',), sens_red_block),\n",
    "        'ux_full_block': (('number', 'yblock+1','xblock+1'), ux_full_block),\n",
    "        'uy_full_block': (('number', 'yblock+1','xblock+1'), uy_full_block),\n",
    "        'ux_red_block': (('number', 'yfixed2','xfixed2'), ux_red_block),\n",
    "        'uy_red_block': (('number', 'yfixed2','xfixed2'), uy_red_block)\n",
    "    }, coords={'number': np.arange(len(dens_block))})\n",
    " \n",
    "  return ds\n",
    "  "
   ]
  },
  {
   "attachments": {},
   "cell_type": "markdown",
   "metadata": {},
   "source": [
    "------------------------------------------------------------------------------"
   ]
  },
  {
   "attachments": {},
   "cell_type": "markdown",
   "metadata": {},
   "source": [
    "由节点位移和单元密度反算灵敏度，验证有限元计算、分块方式是否正确："
   ]
  },
  {
   "cell_type": "code",
   "execution_count": 12,
   "metadata": {
    "colab": {
     "base_uri": "https://localhost:8080/"
    },
    "id": "YczdiOx6SzA2",
    "outputId": "28b595e9-e984-4ed3-a039-3aceab2ceff9"
   },
   "outputs": [
    {
     "data": {
      "text/plain": [
       "array(-0.00838057)"
      ]
     },
     "execution_count": 12,
     "metadata": {},
     "output_type": "execute_result"
    }
   ],
   "source": [
    "def disp_to_sens(dens, uxs, uys, penal=3):\n",
    "  ''' input density elements map(nelx, nely), its corresponding ux&uy map(nnpx,nnpy)'''\n",
    "  ke = get_stiffness_matrix(1,0.3)\n",
    "  sens = []\n",
    "  for den, ux, uy in zip(dens.ravel(), view_as_windows(uxs, window_shape=(2,2), step=(1,1)).reshape(-1,2,2), view_as_windows(uys, window_shape=(2,2), step=(1,1)).reshape(-1,2,2)):\n",
    "    ux, uy = ux.squeeze(), uy.squeeze()\n",
    "    u = np.array([ux[0][0], uy[0][0], ux[0][1], uy[0][1], ux[1][1], uy[1][1], ux[1][0], uy[1][0]])\n",
    "    sen = -penal*den**(penal-1) * np.matmul(np.matmul(u.T, ke), u)\n",
    "    sens.append(sen)\n",
    "  return np.array(sens).reshape(dens.shape)"
   ]
  }
 ],
 "metadata": {
  "colab": {
   "collapsed_sections": [],
   "provenance": []
  },
  "kernelspec": {
   "display_name": "Python 3.9.15 ('tensorflow')",
   "language": "python",
   "name": "python3"
  },
  "language_info": {
   "codemirror_mode": {
    "name": "ipython",
    "version": 3
   },
   "file_extension": ".py",
   "mimetype": "text/x-python",
   "name": "python",
   "nbconvert_exporter": "python",
   "pygments_lexer": "ipython3",
   "version": "3.9.15"
  },
  "vscode": {
   "interpreter": {
    "hash": "3cd6af004486e18d8cd1b1dc71eb6e14b35da0a003c4531af785de1b844902cc"
   }
  }
 },
 "nbformat": 4,
 "nbformat_minor": 4
}
